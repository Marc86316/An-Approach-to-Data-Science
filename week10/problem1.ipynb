{
  "cells": [
    {
      "cell_type": "markdown",
      "metadata": {
        "id": "V4hdqR9RWWPC"
      },
      "source": [
        "---\n",
        "# Welcome to CE880\n",
        "### This is your week-10 : Problem notebook\n",
        "\n",
        "For this problem set, we'll be using the Jupyter notebook and please upload this notebook to [Google Colab](https://colab.research.google.com/). \n",
        "\n",
        "Paris Housing is a set of data created from imaginary data of house prices in an urban environment. \n",
        "https://github.com/sagihaider/CE880_2021/blob/main/Data/ParisHousingClass.csv \n",
        "\n",
        "All attributes are numeric variables and they are listed bellow:\n",
        "* squareMeters\n",
        "* numberOfRooms\n",
        "* hasYard\n",
        "* hasPool\n",
        "* floors - number of floors\n",
        "* cityCode - zip code\n",
        "* cityPartRange - the higher the range, the more exclusive the neighbourhood is\n",
        "* numPrevOwners - number of prevoious owners\n",
        "* made - year\n",
        "* isNewBuilt\n",
        "* hasStormProtector\n",
        "* basement - basement square meters\n",
        "* attic - attic square meteres\n",
        "* garage - garage size\n",
        "* hasStorageRoom\n",
        "* hasGuestRoom - number of guest rooms\n",
        "* price - price of a house\n",
        "* category - Luxury or Basic"
      ]
    },
    {
      "cell_type": "code",
      "execution_count": 139,
      "metadata": {
        "colab": {
          "base_uri": "https://localhost:8080/"
        },
        "id": "C7jBSSpMWWPE",
        "outputId": "e0ed9535-a462-4499-f512-ce61c6d267c7"
      },
      "outputs": [
        {
          "output_type": "stream",
          "name": "stdout",
          "text": [
            "              numberOfRooms  hasYard  hasPool  floors  cityCode  \\\n",
            "squareMeters                                                      \n",
            "75523                     3        0        1      63      9373   \n",
            "80771                    39        1        1      98     39381   \n",
            "55712                    58        0        1      19     34457   \n",
            "32316                    47        0        0       6     27939   \n",
            "70429                    19        1        1      90     38045   \n",
            "\n",
            "              cityPartRange  numPrevOwners  made  isNewBuilt  \\\n",
            "squareMeters                                                   \n",
            "75523                     3              8  2005           0   \n",
            "80771                     8              6  2015           1   \n",
            "55712                     6              8  2021           0   \n",
            "32316                    10              4  2012           0   \n",
            "70429                     3              7  1990           1   \n",
            "\n",
            "              hasStormProtector  basement  attic  garage  hasStorageRoom  \\\n",
            "squareMeters                                                               \n",
            "75523                         1      4313   9005     956               0   \n",
            "80771                         0      3653   2436     128               1   \n",
            "55712                         0      2937   8852     135               1   \n",
            "32316                         1       659   7141     359               0   \n",
            "70429                         0      8435   2429     292               1   \n",
            "\n",
            "              hasGuestRoom      price category  \n",
            "squareMeters                                    \n",
            "75523                    7  7559081.5    Basic  \n",
            "80771                    2  8085989.5   Luxury  \n",
            "55712                    9  5574642.1    Basic  \n",
            "32316                    3  3232561.2    Basic  \n",
            "70429                    4  7055052.0   Luxury  \n"
          ]
        }
      ],
      "source": [
        "import numpy as np \n",
        "import pandas as pd \n",
        "url = 'https://raw.githubusercontent.com/sagihaider/CE880_2021/main/Data/ParisHousingClass.csv'\n",
        "trainData = pd.read_csv(url,index_col=0)\n",
        "print(trainData.head())\n"
      ]
    },
    {
      "cell_type": "code",
      "execution_count": 140,
      "metadata": {
        "colab": {
          "base_uri": "https://localhost:8080/"
        },
        "id": "xKlW-vEpWWPF",
        "outputId": "2624be49-3d3b-4a80-fa16-0e0afd7ccf6a"
      },
      "outputs": [
        {
          "output_type": "stream",
          "name": "stdout",
          "text": [
            "category ['Basic' 'Luxury']\n"
          ]
        }
      ],
      "source": [
        "from sklearn.preprocessing import LabelEncoder\n",
        "\n",
        "def label_encoded(feat):\n",
        "    le=LabelEncoder()\n",
        "    le.fit(feat)\n",
        "    print(feat.name,le.classes_)\n",
        "    return le.transform(feat)\n",
        "trainData['category']=label_encoded(trainData['category'])\n",
        "#'Luxury' is represented by a ㄅ and 'Basic' is represented by a 0."
      ]
    },
    {
      "cell_type": "code",
      "source": [
        "trainData.max()\n",
        "#category is object"
      ],
      "metadata": {
        "colab": {
          "base_uri": "https://localhost:8080/"
        },
        "id": "FkzGTucFXLE8",
        "outputId": "1408082b-710d-4004-a8e4-a82249e38e23"
      },
      "execution_count": 141,
      "outputs": [
        {
          "output_type": "execute_result",
          "data": {
            "text/plain": [
              "numberOfRooms             100.0\n",
              "hasYard                     1.0\n",
              "hasPool                     1.0\n",
              "floors                    100.0\n",
              "cityCode                99953.0\n",
              "cityPartRange              10.0\n",
              "numPrevOwners              10.0\n",
              "made                     2021.0\n",
              "isNewBuilt                  1.0\n",
              "hasStormProtector           1.0\n",
              "basement                10000.0\n",
              "attic                   10000.0\n",
              "garage                   1000.0\n",
              "hasStorageRoom              1.0\n",
              "hasGuestRoom               10.0\n",
              "price                10006771.2\n",
              "category                    1.0\n",
              "dtype: float64"
            ]
          },
          "metadata": {},
          "execution_count": 141
        }
      ]
    },
    {
      "cell_type": "code",
      "source": [
        "trainData.min()\n",
        "#category is object"
      ],
      "metadata": {
        "colab": {
          "base_uri": "https://localhost:8080/"
        },
        "id": "eKhDzvUIYiJm",
        "outputId": "61be6273-4d7d-4784-f6a0-e26d7f6cdfbf"
      },
      "execution_count": 142,
      "outputs": [
        {
          "output_type": "execute_result",
          "data": {
            "text/plain": [
              "numberOfRooms            1.0\n",
              "hasYard                  0.0\n",
              "hasPool                  0.0\n",
              "floors                   1.0\n",
              "cityCode                 3.0\n",
              "cityPartRange            1.0\n",
              "numPrevOwners            1.0\n",
              "made                  1990.0\n",
              "isNewBuilt               0.0\n",
              "hasStormProtector        0.0\n",
              "basement                 0.0\n",
              "attic                    1.0\n",
              "garage                 100.0\n",
              "hasStorageRoom           0.0\n",
              "hasGuestRoom             0.0\n",
              "price                10313.5\n",
              "category                 0.0\n",
              "dtype: float64"
            ]
          },
          "metadata": {},
          "execution_count": 142
        }
      ]
    },
    {
      "cell_type": "code",
      "source": [
        "trainData.isnull()\n",
        "# To detect the missing values"
      ],
      "metadata": {
        "colab": {
          "base_uri": "https://localhost:8080/",
          "height": 519
        },
        "id": "Id05hUJKY8Xv",
        "outputId": "546c9a27-1c71-4e5b-cc9a-b748050e6d55"
      },
      "execution_count": 143,
      "outputs": [
        {
          "output_type": "execute_result",
          "data": {
            "text/plain": [
              "              numberOfRooms  hasYard  hasPool  floors  cityCode  \\\n",
              "squareMeters                                                      \n",
              "75523                 False    False    False   False     False   \n",
              "80771                 False    False    False   False     False   \n",
              "55712                 False    False    False   False     False   \n",
              "32316                 False    False    False   False     False   \n",
              "70429                 False    False    False   False     False   \n",
              "...                     ...      ...      ...     ...       ...   \n",
              "1726                  False    False    False   False     False   \n",
              "44403                 False    False    False   False     False   \n",
              "83841                 False    False    False   False     False   \n",
              "59036                 False    False    False   False     False   \n",
              "1440                  False    False    False   False     False   \n",
              "\n",
              "              cityPartRange  numPrevOwners   made  isNewBuilt  \\\n",
              "squareMeters                                                    \n",
              "75523                 False          False  False       False   \n",
              "80771                 False          False  False       False   \n",
              "55712                 False          False  False       False   \n",
              "32316                 False          False  False       False   \n",
              "70429                 False          False  False       False   \n",
              "...                     ...            ...    ...         ...   \n",
              "1726                  False          False  False       False   \n",
              "44403                 False          False  False       False   \n",
              "83841                 False          False  False       False   \n",
              "59036                 False          False  False       False   \n",
              "1440                  False          False  False       False   \n",
              "\n",
              "              hasStormProtector  basement  attic  garage  hasStorageRoom  \\\n",
              "squareMeters                                                               \n",
              "75523                     False     False  False   False           False   \n",
              "80771                     False     False  False   False           False   \n",
              "55712                     False     False  False   False           False   \n",
              "32316                     False     False  False   False           False   \n",
              "70429                     False     False  False   False           False   \n",
              "...                         ...       ...    ...     ...             ...   \n",
              "1726                      False     False  False   False           False   \n",
              "44403                     False     False  False   False           False   \n",
              "83841                     False     False  False   False           False   \n",
              "59036                     False     False  False   False           False   \n",
              "1440                      False     False  False   False           False   \n",
              "\n",
              "              hasGuestRoom  price  category  \n",
              "squareMeters                                 \n",
              "75523                False  False     False  \n",
              "80771                False  False     False  \n",
              "55712                False  False     False  \n",
              "32316                False  False     False  \n",
              "70429                False  False     False  \n",
              "...                    ...    ...       ...  \n",
              "1726                 False  False     False  \n",
              "44403                False  False     False  \n",
              "83841                False  False     False  \n",
              "59036                False  False     False  \n",
              "1440                 False  False     False  \n",
              "\n",
              "[10000 rows x 17 columns]"
            ],
            "text/html": [
              "\n",
              "  <div id=\"df-526a757a-307c-42f3-9e56-d3a2159e0880\">\n",
              "    <div class=\"colab-df-container\">\n",
              "      <div>\n",
              "<style scoped>\n",
              "    .dataframe tbody tr th:only-of-type {\n",
              "        vertical-align: middle;\n",
              "    }\n",
              "\n",
              "    .dataframe tbody tr th {\n",
              "        vertical-align: top;\n",
              "    }\n",
              "\n",
              "    .dataframe thead th {\n",
              "        text-align: right;\n",
              "    }\n",
              "</style>\n",
              "<table border=\"1\" class=\"dataframe\">\n",
              "  <thead>\n",
              "    <tr style=\"text-align: right;\">\n",
              "      <th></th>\n",
              "      <th>numberOfRooms</th>\n",
              "      <th>hasYard</th>\n",
              "      <th>hasPool</th>\n",
              "      <th>floors</th>\n",
              "      <th>cityCode</th>\n",
              "      <th>cityPartRange</th>\n",
              "      <th>numPrevOwners</th>\n",
              "      <th>made</th>\n",
              "      <th>isNewBuilt</th>\n",
              "      <th>hasStormProtector</th>\n",
              "      <th>basement</th>\n",
              "      <th>attic</th>\n",
              "      <th>garage</th>\n",
              "      <th>hasStorageRoom</th>\n",
              "      <th>hasGuestRoom</th>\n",
              "      <th>price</th>\n",
              "      <th>category</th>\n",
              "    </tr>\n",
              "    <tr>\n",
              "      <th>squareMeters</th>\n",
              "      <th></th>\n",
              "      <th></th>\n",
              "      <th></th>\n",
              "      <th></th>\n",
              "      <th></th>\n",
              "      <th></th>\n",
              "      <th></th>\n",
              "      <th></th>\n",
              "      <th></th>\n",
              "      <th></th>\n",
              "      <th></th>\n",
              "      <th></th>\n",
              "      <th></th>\n",
              "      <th></th>\n",
              "      <th></th>\n",
              "      <th></th>\n",
              "      <th></th>\n",
              "    </tr>\n",
              "  </thead>\n",
              "  <tbody>\n",
              "    <tr>\n",
              "      <th>75523</th>\n",
              "      <td>False</td>\n",
              "      <td>False</td>\n",
              "      <td>False</td>\n",
              "      <td>False</td>\n",
              "      <td>False</td>\n",
              "      <td>False</td>\n",
              "      <td>False</td>\n",
              "      <td>False</td>\n",
              "      <td>False</td>\n",
              "      <td>False</td>\n",
              "      <td>False</td>\n",
              "      <td>False</td>\n",
              "      <td>False</td>\n",
              "      <td>False</td>\n",
              "      <td>False</td>\n",
              "      <td>False</td>\n",
              "      <td>False</td>\n",
              "    </tr>\n",
              "    <tr>\n",
              "      <th>80771</th>\n",
              "      <td>False</td>\n",
              "      <td>False</td>\n",
              "      <td>False</td>\n",
              "      <td>False</td>\n",
              "      <td>False</td>\n",
              "      <td>False</td>\n",
              "      <td>False</td>\n",
              "      <td>False</td>\n",
              "      <td>False</td>\n",
              "      <td>False</td>\n",
              "      <td>False</td>\n",
              "      <td>False</td>\n",
              "      <td>False</td>\n",
              "      <td>False</td>\n",
              "      <td>False</td>\n",
              "      <td>False</td>\n",
              "      <td>False</td>\n",
              "    </tr>\n",
              "    <tr>\n",
              "      <th>55712</th>\n",
              "      <td>False</td>\n",
              "      <td>False</td>\n",
              "      <td>False</td>\n",
              "      <td>False</td>\n",
              "      <td>False</td>\n",
              "      <td>False</td>\n",
              "      <td>False</td>\n",
              "      <td>False</td>\n",
              "      <td>False</td>\n",
              "      <td>False</td>\n",
              "      <td>False</td>\n",
              "      <td>False</td>\n",
              "      <td>False</td>\n",
              "      <td>False</td>\n",
              "      <td>False</td>\n",
              "      <td>False</td>\n",
              "      <td>False</td>\n",
              "    </tr>\n",
              "    <tr>\n",
              "      <th>32316</th>\n",
              "      <td>False</td>\n",
              "      <td>False</td>\n",
              "      <td>False</td>\n",
              "      <td>False</td>\n",
              "      <td>False</td>\n",
              "      <td>False</td>\n",
              "      <td>False</td>\n",
              "      <td>False</td>\n",
              "      <td>False</td>\n",
              "      <td>False</td>\n",
              "      <td>False</td>\n",
              "      <td>False</td>\n",
              "      <td>False</td>\n",
              "      <td>False</td>\n",
              "      <td>False</td>\n",
              "      <td>False</td>\n",
              "      <td>False</td>\n",
              "    </tr>\n",
              "    <tr>\n",
              "      <th>70429</th>\n",
              "      <td>False</td>\n",
              "      <td>False</td>\n",
              "      <td>False</td>\n",
              "      <td>False</td>\n",
              "      <td>False</td>\n",
              "      <td>False</td>\n",
              "      <td>False</td>\n",
              "      <td>False</td>\n",
              "      <td>False</td>\n",
              "      <td>False</td>\n",
              "      <td>False</td>\n",
              "      <td>False</td>\n",
              "      <td>False</td>\n",
              "      <td>False</td>\n",
              "      <td>False</td>\n",
              "      <td>False</td>\n",
              "      <td>False</td>\n",
              "    </tr>\n",
              "    <tr>\n",
              "      <th>...</th>\n",
              "      <td>...</td>\n",
              "      <td>...</td>\n",
              "      <td>...</td>\n",
              "      <td>...</td>\n",
              "      <td>...</td>\n",
              "      <td>...</td>\n",
              "      <td>...</td>\n",
              "      <td>...</td>\n",
              "      <td>...</td>\n",
              "      <td>...</td>\n",
              "      <td>...</td>\n",
              "      <td>...</td>\n",
              "      <td>...</td>\n",
              "      <td>...</td>\n",
              "      <td>...</td>\n",
              "      <td>...</td>\n",
              "      <td>...</td>\n",
              "    </tr>\n",
              "    <tr>\n",
              "      <th>1726</th>\n",
              "      <td>False</td>\n",
              "      <td>False</td>\n",
              "      <td>False</td>\n",
              "      <td>False</td>\n",
              "      <td>False</td>\n",
              "      <td>False</td>\n",
              "      <td>False</td>\n",
              "      <td>False</td>\n",
              "      <td>False</td>\n",
              "      <td>False</td>\n",
              "      <td>False</td>\n",
              "      <td>False</td>\n",
              "      <td>False</td>\n",
              "      <td>False</td>\n",
              "      <td>False</td>\n",
              "      <td>False</td>\n",
              "      <td>False</td>\n",
              "    </tr>\n",
              "    <tr>\n",
              "      <th>44403</th>\n",
              "      <td>False</td>\n",
              "      <td>False</td>\n",
              "      <td>False</td>\n",
              "      <td>False</td>\n",
              "      <td>False</td>\n",
              "      <td>False</td>\n",
              "      <td>False</td>\n",
              "      <td>False</td>\n",
              "      <td>False</td>\n",
              "      <td>False</td>\n",
              "      <td>False</td>\n",
              "      <td>False</td>\n",
              "      <td>False</td>\n",
              "      <td>False</td>\n",
              "      <td>False</td>\n",
              "      <td>False</td>\n",
              "      <td>False</td>\n",
              "    </tr>\n",
              "    <tr>\n",
              "      <th>83841</th>\n",
              "      <td>False</td>\n",
              "      <td>False</td>\n",
              "      <td>False</td>\n",
              "      <td>False</td>\n",
              "      <td>False</td>\n",
              "      <td>False</td>\n",
              "      <td>False</td>\n",
              "      <td>False</td>\n",
              "      <td>False</td>\n",
              "      <td>False</td>\n",
              "      <td>False</td>\n",
              "      <td>False</td>\n",
              "      <td>False</td>\n",
              "      <td>False</td>\n",
              "      <td>False</td>\n",
              "      <td>False</td>\n",
              "      <td>False</td>\n",
              "    </tr>\n",
              "    <tr>\n",
              "      <th>59036</th>\n",
              "      <td>False</td>\n",
              "      <td>False</td>\n",
              "      <td>False</td>\n",
              "      <td>False</td>\n",
              "      <td>False</td>\n",
              "      <td>False</td>\n",
              "      <td>False</td>\n",
              "      <td>False</td>\n",
              "      <td>False</td>\n",
              "      <td>False</td>\n",
              "      <td>False</td>\n",
              "      <td>False</td>\n",
              "      <td>False</td>\n",
              "      <td>False</td>\n",
              "      <td>False</td>\n",
              "      <td>False</td>\n",
              "      <td>False</td>\n",
              "    </tr>\n",
              "    <tr>\n",
              "      <th>1440</th>\n",
              "      <td>False</td>\n",
              "      <td>False</td>\n",
              "      <td>False</td>\n",
              "      <td>False</td>\n",
              "      <td>False</td>\n",
              "      <td>False</td>\n",
              "      <td>False</td>\n",
              "      <td>False</td>\n",
              "      <td>False</td>\n",
              "      <td>False</td>\n",
              "      <td>False</td>\n",
              "      <td>False</td>\n",
              "      <td>False</td>\n",
              "      <td>False</td>\n",
              "      <td>False</td>\n",
              "      <td>False</td>\n",
              "      <td>False</td>\n",
              "    </tr>\n",
              "  </tbody>\n",
              "</table>\n",
              "<p>10000 rows × 17 columns</p>\n",
              "</div>\n",
              "      <button class=\"colab-df-convert\" onclick=\"convertToInteractive('df-526a757a-307c-42f3-9e56-d3a2159e0880')\"\n",
              "              title=\"Convert this dataframe to an interactive table.\"\n",
              "              style=\"display:none;\">\n",
              "        \n",
              "  <svg xmlns=\"http://www.w3.org/2000/svg\" height=\"24px\"viewBox=\"0 0 24 24\"\n",
              "       width=\"24px\">\n",
              "    <path d=\"M0 0h24v24H0V0z\" fill=\"none\"/>\n",
              "    <path d=\"M18.56 5.44l.94 2.06.94-2.06 2.06-.94-2.06-.94-.94-2.06-.94 2.06-2.06.94zm-11 1L8.5 8.5l.94-2.06 2.06-.94-2.06-.94L8.5 2.5l-.94 2.06-2.06.94zm10 10l.94 2.06.94-2.06 2.06-.94-2.06-.94-.94-2.06-.94 2.06-2.06.94z\"/><path d=\"M17.41 7.96l-1.37-1.37c-.4-.4-.92-.59-1.43-.59-.52 0-1.04.2-1.43.59L10.3 9.45l-7.72 7.72c-.78.78-.78 2.05 0 2.83L4 21.41c.39.39.9.59 1.41.59.51 0 1.02-.2 1.41-.59l7.78-7.78 2.81-2.81c.8-.78.8-2.07 0-2.86zM5.41 20L4 18.59l7.72-7.72 1.47 1.35L5.41 20z\"/>\n",
              "  </svg>\n",
              "      </button>\n",
              "      \n",
              "  <style>\n",
              "    .colab-df-container {\n",
              "      display:flex;\n",
              "      flex-wrap:wrap;\n",
              "      gap: 12px;\n",
              "    }\n",
              "\n",
              "    .colab-df-convert {\n",
              "      background-color: #E8F0FE;\n",
              "      border: none;\n",
              "      border-radius: 50%;\n",
              "      cursor: pointer;\n",
              "      display: none;\n",
              "      fill: #1967D2;\n",
              "      height: 32px;\n",
              "      padding: 0 0 0 0;\n",
              "      width: 32px;\n",
              "    }\n",
              "\n",
              "    .colab-df-convert:hover {\n",
              "      background-color: #E2EBFA;\n",
              "      box-shadow: 0px 1px 2px rgba(60, 64, 67, 0.3), 0px 1px 3px 1px rgba(60, 64, 67, 0.15);\n",
              "      fill: #174EA6;\n",
              "    }\n",
              "\n",
              "    [theme=dark] .colab-df-convert {\n",
              "      background-color: #3B4455;\n",
              "      fill: #D2E3FC;\n",
              "    }\n",
              "\n",
              "    [theme=dark] .colab-df-convert:hover {\n",
              "      background-color: #434B5C;\n",
              "      box-shadow: 0px 1px 3px 1px rgba(0, 0, 0, 0.15);\n",
              "      filter: drop-shadow(0px 1px 2px rgba(0, 0, 0, 0.3));\n",
              "      fill: #FFFFFF;\n",
              "    }\n",
              "  </style>\n",
              "\n",
              "      <script>\n",
              "        const buttonEl =\n",
              "          document.querySelector('#df-526a757a-307c-42f3-9e56-d3a2159e0880 button.colab-df-convert');\n",
              "        buttonEl.style.display =\n",
              "          google.colab.kernel.accessAllowed ? 'block' : 'none';\n",
              "\n",
              "        async function convertToInteractive(key) {\n",
              "          const element = document.querySelector('#df-526a757a-307c-42f3-9e56-d3a2159e0880');\n",
              "          const dataTable =\n",
              "            await google.colab.kernel.invokeFunction('convertToInteractive',\n",
              "                                                     [key], {});\n",
              "          if (!dataTable) return;\n",
              "\n",
              "          const docLinkHtml = 'Like what you see? Visit the ' +\n",
              "            '<a target=\"_blank\" href=https://colab.research.google.com/notebooks/data_table.ipynb>data table notebook</a>'\n",
              "            + ' to learn more about interactive tables.';\n",
              "          element.innerHTML = '';\n",
              "          dataTable['output_type'] = 'display_data';\n",
              "          await google.colab.output.renderOutput(dataTable, element);\n",
              "          const docLink = document.createElement('div');\n",
              "          docLink.innerHTML = docLinkHtml;\n",
              "          element.appendChild(docLink);\n",
              "        }\n",
              "      </script>\n",
              "    </div>\n",
              "  </div>\n",
              "  "
            ]
          },
          "metadata": {},
          "execution_count": 143
        }
      ]
    },
    {
      "cell_type": "code",
      "execution_count": 144,
      "metadata": {
        "id": "A2oMCkfyWWPF"
      },
      "outputs": [],
      "source": [
        "from sklearn.model_selection import train_test_split,GridSearchCV\n",
        "#split the data in a dataset into training and testing sets.\n",
        "y=trainData['category']\n",
        "x=trainData.drop('category',axis=1)\n",
        "xtrain,xtest,ytrain,ytest=train_test_split(x,y,test_size=0.2,random_state=42)"
      ]
    },
    {
      "cell_type": "markdown",
      "metadata": {
        "id": "F3Y_boI8WWPF"
      },
      "source": [
        "---\n",
        "## Question 1: \n",
        "\n",
        "#### Classification\n",
        "Use the dataset, which I have spilted into training and test sets (xtrain, xtest, ytrain, ytest), please train the machine learning model to get the test accuracy of 100%. You are free to use any classication model such as Decision Tree, Random Forest, KNN, SVM..etc. \n",
        "\n",
        "Hint: Please use grid search to find a best model using different parameters. "
      ]
    },
    {
      "cell_type": "markdown",
      "source": [
        "# Visualization\n",
        "\n",
        "\n",
        "Relation between each attribute\n",
        "\n",
        "\n"
      ],
      "metadata": {
        "id": "ZRhpghx5dUtI"
      }
    },
    {
      "cell_type": "code",
      "source": [
        "import matplotlib.pyplot as plt\n",
        "import seaborn as sns\n",
        "\n",
        "plt.figure(figsize=(15,10))\n",
        "hm = sns.heatmap(trainData.corr(), annot = True)\n",
        "plt.show()"
      ],
      "metadata": {
        "colab": {
          "base_uri": "https://localhost:8080/",
          "height": 678
        },
        "id": "Xgpm8S4RdUek",
        "outputId": "5793dc0d-36c8-4da9-a115-69b6586c8a8a"
      },
      "execution_count": 145,
      "outputs": [
        {
          "output_type": "display_data",
          "data": {
            "text/plain": [
              "<Figure size 1080x720 with 2 Axes>"
            ],
            "image/png": "[encoded data removed]"
          },
          "metadata": {
            "needs_background": "light"
          }
        }
      ]
    },
    {
      "cell_type": "markdown",
      "source": [
        "# Random Forest Classifier"
      ],
      "metadata": {
        "id": "7q7nzQV0o_eD"
      }
    },
    {
      "cell_type": "code",
      "execution_count": 180,
      "metadata": {
        "deletable": false,
        "nbgrader": {
          "cell_type": "code",
          "checksum": "7d59a986a353bb89559cb1ff0cf34516",
          "grade": false,
          "grade_id": "my_model_ans",
          "locked": false,
          "schema_version": 3,
          "solution": true,
          "task": false
        },
        "id": "-PVEbu-vnK63"
      },
      "outputs": [],
      "source": [
        "from sklearn.ensemble import RandomForestClassifier\n",
        "from sklearn.metrics import accuracy_score\n",
        "\n",
        "def RandomForest(xtrain,xtest,ytrain,ytest):\n",
        "    \"\"\"Write a function to train a machine learning model to get the test accuracy of 100%. \n",
        "    You are free to use any classication model such as Decision Tree, \n",
        "    Random Forest, KNN, SVM..etc. \"\"\"\n",
        "    # YOUR CODE HERE\n",
        "    model = RandomForestClassifier()\n",
        "    model.fit(xtrain, ytrain)\n",
        "    ypred = model.predict(xtest)\n",
        "    accuracy = accuracy_score(ytest, ypred)\n",
        "    print(accuracy*100)\n",
        "    return accuracy*100\n",
        "    raise NotImplementedError()"
      ]
    },
    {
      "cell_type": "code",
      "execution_count": 181,
      "metadata": {
        "deletable": false,
        "editable": false,
        "nbgrader": {
          "cell_type": "code",
          "checksum": "b15a8a354453f7e99cb9fa5a6cb0b977",
          "grade": true,
          "grade_id": "my_model_test",
          "locked": true,
          "points": 9,
          "schema_version": 3,
          "solution": false,
          "task": false
        },
        "colab": {
          "base_uri": "https://localhost:8080/"
        },
        "id": "IZ9cqeDEpKNS",
        "outputId": "09c98ff6-24e2-4cb8-d3d6-4c006fd10dd1"
      },
      "outputs": [
        {
          "output_type": "stream",
          "name": "stdout",
          "text": [
            "100.0\n"
          ]
        }
      ],
      "source": [
        "# Check you solution by running this cell\n",
        "import math\n",
        "assert math.isclose(RandomForest(xtrain,xtest,ytrain,ytest), 100.0, rel_tol = 0.05)"
      ]
    },
    {
      "cell_type": "code",
      "source": [
        "from sklearn.tree import DecisionTreeClassifier\n",
        "from sklearn.metrics import accuracy_score\n",
        "\n",
        "def DecisionTree(xtrain,xtest,ytrain,ytest):\n",
        "    \"\"\"Write a function to train a machine learning model to get the test accuracy of 100%. \n",
        "    You are free to use any classication model such as Decision Tree, \n",
        "    Random Forest, KNN, SVM..etc. \"\"\"\n",
        "    # YOUR CODE HERE\n",
        "    model = DecisionTreeClassifier()\n",
        "    model.fit(xtrain, ytrain)\n",
        "    ypred = model.predict(xtest)\n",
        "    accuracy = accuracy_score(ytest, ypred)\n",
        "    print(accuracy*100)\n",
        "    return accuracy*100\n",
        "    raise NotImplementedError()"
      ],
      "metadata": {
        "id": "QsGkrhVzqMMU"
      },
      "execution_count": 193,
      "outputs": []
    },
    {
      "cell_type": "code",
      "execution_count": 194,
      "metadata": {
        "deletable": false,
        "editable": false,
        "nbgrader": {
          "cell_type": "code",
          "checksum": "b15a8a354453f7e99cb9fa5a6cb0b977",
          "grade": true,
          "grade_id": "my_model_test",
          "locked": true,
          "points": 9,
          "schema_version": 3,
          "solution": false,
          "task": false
        },
        "colab": {
          "base_uri": "https://localhost:8080/"
        },
        "id": "LIYYSH2OpKjk",
        "outputId": "15610af4-5d9d-45eb-b37f-ab743e55e7b6"
      },
      "outputs": [
        {
          "output_type": "stream",
          "name": "stdout",
          "text": [
            "100.0\n"
          ]
        }
      ],
      "source": [
        "# Check you solution by running this cell\n",
        "import math\n",
        "assert math.isclose(DecisionTree(xtrain,xtest,ytrain,ytest), 100.0, rel_tol = 0.05)"
      ]
    },
    {
      "cell_type": "markdown",
      "source": [
        "Random Forest Classifier and decision tree are both reached 100 accuracy"
      ],
      "metadata": {
        "id": "OFO3GJjHqaXm"
      }
    },
    {
      "cell_type": "markdown",
      "source": [
        "# Support Vector Machine"
      ],
      "metadata": {
        "id": "XYTKsMVKpGer"
      }
    },
    {
      "cell_type": "code",
      "execution_count": 187,
      "metadata": {
        "deletable": false,
        "nbgrader": {
          "cell_type": "code",
          "checksum": "7d59a986a353bb89559cb1ff0cf34516",
          "grade": false,
          "grade_id": "my_model_ans",
          "locked": false,
          "schema_version": 3,
          "solution": true,
          "task": false
        },
        "id": "6GyDTIvfo7CJ"
      },
      "outputs": [],
      "source": [
        "from sklearn.svm import SVC\n",
        "from sklearn.metrics import accuracy_score\n",
        "\n",
        "def Support_Vector_Machine(xtrain,xtest,ytrain,ytest):\n",
        "    \"\"\"Write a function to train a machine learning model to get the test accuracy of 100%. \n",
        "    You are free to use any classication model such as Decision Tree, \n",
        "    Random Forest, KNN, SVM..etc. \"\"\"\n",
        "    # YOUR CODE HERE\n",
        "    model = SVC()\n",
        "    model.fit(xtrain, ytrain)\n",
        "    ypred = model.predict(xtest)\n",
        "    accuracy = accuracy_score(ytest, ypred)\n",
        "    print(accuracy*100)\n",
        "    return accuracy*100\n",
        "    raise NotImplementedError()"
      ]
    },
    {
      "cell_type": "code",
      "execution_count": 188,
      "metadata": {
        "deletable": false,
        "editable": false,
        "nbgrader": {
          "cell_type": "code",
          "checksum": "b15a8a354453f7e99cb9fa5a6cb0b977",
          "grade": true,
          "grade_id": "my_model_test",
          "locked": true,
          "points": 9,
          "schema_version": 3,
          "solution": false,
          "task": false
        },
        "colab": {
          "base_uri": "https://localhost:8080/",
          "height": 218
        },
        "id": "2jqgdiGoWWPG",
        "outputId": "d390aa38-d4e3-4e8b-c9bc-bbbc63daf74a"
      },
      "outputs": [
        {
          "output_type": "stream",
          "name": "stdout",
          "text": [
            "87.2\n"
          ]
        },
        {
          "output_type": "error",
          "ename": "AssertionError",
          "evalue": "ignored",
          "traceback": [
            "\u001b[0;31m---------------------------------------------------------------------------\u001b[0m",
            "\u001b[0;31mAssertionError\u001b[0m                            Traceback (most recent call last)",
            "\u001b[0;32m<ipython-input-188-445bf8f42522>\u001b[0m in \u001b[0;36m<module>\u001b[0;34m\u001b[0m\n\u001b[1;32m      1\u001b[0m \u001b[0;31m# Check you solution by running this cell\u001b[0m\u001b[0;34m\u001b[0m\u001b[0;34m\u001b[0m\u001b[0;34m\u001b[0m\u001b[0m\n\u001b[1;32m      2\u001b[0m \u001b[0;32mimport\u001b[0m \u001b[0mmath\u001b[0m\u001b[0;34m\u001b[0m\u001b[0;34m\u001b[0m\u001b[0m\n\u001b[0;32m----> 3\u001b[0;31m \u001b[0;32massert\u001b[0m \u001b[0mmath\u001b[0m\u001b[0;34m.\u001b[0m\u001b[0misclose\u001b[0m\u001b[0;34m(\u001b[0m\u001b[0mSupport_Vector_Machine\u001b[0m\u001b[0;34m(\u001b[0m\u001b[0mxtrain\u001b[0m\u001b[0;34m,\u001b[0m\u001b[0mxtest\u001b[0m\u001b[0;34m,\u001b[0m\u001b[0mytrain\u001b[0m\u001b[0;34m,\u001b[0m\u001b[0mytest\u001b[0m\u001b[0;34m)\u001b[0m\u001b[0;34m,\u001b[0m \u001b[0;36m100.0\u001b[0m\u001b[0;34m,\u001b[0m \u001b[0mrel_tol\u001b[0m \u001b[0;34m=\u001b[0m \u001b[0;36m0.05\u001b[0m\u001b[0;34m)\u001b[0m\u001b[0;34m\u001b[0m\u001b[0;34m\u001b[0m\u001b[0m\n\u001b[0m",
            "\u001b[0;31mAssertionError\u001b[0m: "
          ]
        }
      ],
      "source": [
        "# Check you solution by running this cell\n",
        "import math\n",
        "assert math.isclose(Support_Vector_Machine(xtrain,xtest,ytrain,ytest), 100.0, rel_tol = 0.05)"
      ]
    },
    {
      "cell_type": "markdown",
      "source": [
        "# K Nearest Neighbor"
      ],
      "metadata": {
        "id": "M1Ul1ja8qN1V"
      }
    },
    {
      "cell_type": "code",
      "source": [
        "from sklearn.neighbors import KNeighborsClassifier\n",
        "from sklearn.metrics import accuracy_score\n",
        "\n",
        "def KNeighbors(xtrain,xtest,ytrain,ytest):\n",
        "    \"\"\"Write a function to train a machine learning model to get the test accuracy of 100%. \n",
        "    You are free to use any classication model such as Decision Tree, \n",
        "    Random Forest, KNN, SVM..etc. \"\"\"\n",
        "    # YOUR CODE HERE\n",
        "    model = KNeighborsClassifier()\n",
        "    model.fit(xtrain, ytrain)\n",
        "    ypred = model.predict(xtest)\n",
        "    accuracy = accuracy_score(ytest, ypred)\n",
        "    print(accuracy*100)\n",
        "    return accuracy*100\n",
        "    raise NotImplementedError()"
      ],
      "metadata": {
        "id": "WrOfEMQOqLgU"
      },
      "execution_count": 190,
      "outputs": []
    },
    {
      "cell_type": "code",
      "execution_count": 191,
      "metadata": {
        "deletable": false,
        "editable": false,
        "nbgrader": {
          "cell_type": "code",
          "checksum": "b15a8a354453f7e99cb9fa5a6cb0b977",
          "grade": true,
          "grade_id": "my_model_test",
          "locked": true,
          "points": 9,
          "schema_version": 3,
          "solution": false,
          "task": false
        },
        "colab": {
          "base_uri": "https://localhost:8080/",
          "height": 218
        },
        "id": "loiyGuebpKTr",
        "outputId": "3601bfd3-17b3-4e64-8dfc-db31593b34c5"
      },
      "outputs": [
        {
          "output_type": "stream",
          "name": "stdout",
          "text": [
            "86.15\n"
          ]
        },
        {
          "output_type": "error",
          "ename": "AssertionError",
          "evalue": "ignored",
          "traceback": [
            "\u001b[0;31m---------------------------------------------------------------------------\u001b[0m",
            "\u001b[0;31mAssertionError\u001b[0m                            Traceback (most recent call last)",
            "\u001b[0;32m<ipython-input-191-ea87f930ef4b>\u001b[0m in \u001b[0;36m<module>\u001b[0;34m\u001b[0m\n\u001b[1;32m      1\u001b[0m \u001b[0;31m# Check you solution by running this cell\u001b[0m\u001b[0;34m\u001b[0m\u001b[0;34m\u001b[0m\u001b[0;34m\u001b[0m\u001b[0m\n\u001b[1;32m      2\u001b[0m \u001b[0;32mimport\u001b[0m \u001b[0mmath\u001b[0m\u001b[0;34m\u001b[0m\u001b[0;34m\u001b[0m\u001b[0m\n\u001b[0;32m----> 3\u001b[0;31m \u001b[0;32massert\u001b[0m \u001b[0mmath\u001b[0m\u001b[0;34m.\u001b[0m\u001b[0misclose\u001b[0m\u001b[0;34m(\u001b[0m\u001b[0mKNeighbors\u001b[0m\u001b[0;34m(\u001b[0m\u001b[0mxtrain\u001b[0m\u001b[0;34m,\u001b[0m\u001b[0mxtest\u001b[0m\u001b[0;34m,\u001b[0m\u001b[0mytrain\u001b[0m\u001b[0;34m,\u001b[0m\u001b[0mytest\u001b[0m\u001b[0;34m)\u001b[0m\u001b[0;34m,\u001b[0m \u001b[0;36m100.0\u001b[0m\u001b[0;34m,\u001b[0m \u001b[0mrel_tol\u001b[0m \u001b[0;34m=\u001b[0m \u001b[0;36m0.05\u001b[0m\u001b[0;34m)\u001b[0m\u001b[0;34m\u001b[0m\u001b[0;34m\u001b[0m\u001b[0m\n\u001b[0m",
            "\u001b[0;31mAssertionError\u001b[0m: "
          ]
        }
      ],
      "source": [
        "# Check you solution by running this cell\n",
        "import math\n",
        "assert math.isclose(KNeighbors(xtrain,xtest,ytrain,ytest), 100.0, rel_tol = 0.05)"
      ]
    }
  ],
  "metadata": {
    "kernelspec": {
      "display_name": "Python 3",
      "language": "python",
      "name": "python3"
    },
    "language_info": {
      "codemirror_mode": {
        "name": "ipython",
        "version": 3
      },
      "file_extension": ".py",
      "mimetype": "text/x-python",
      "name": "python",
      "nbconvert_exporter": "python",
      "pygments_lexer": "ipython3",
      "version": "3.7.10"
    },
    "colab": {
      "provenance": []
    }
  },
  "nbformat": 4,
  "nbformat_minor": 0
}