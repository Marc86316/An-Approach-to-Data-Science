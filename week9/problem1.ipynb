{
  "cells": [
    {
      "cell_type": "markdown",
      "metadata": {
        "id": "8Zor0NGsKySS"
      },
      "source": [
        "---\n",
        "# Welcome to CE880\n",
        "### This is your week-10(but I think it should be 9) : Problem notebook\n",
        "\n",
        "For this problem set, we'll be using the Jupyter notebook and please upload this notebook to [Google Colab](https://colab.research.google.com/). \n",
        "\n"
      ]
    },
    {
      "cell_type": "code",
      "execution_count": 23,
      "metadata": {
        "id": "EJCiZa6tKySU"
      },
      "outputs": [],
      "source": [
        "import numpy as np\n",
        "from sklearn import datasets, linear_model\n",
        "from sklearn.metrics import mean_squared_error, r2_score\n",
        "\n",
        "# Load the diabetes dataset\n",
        "diabetes_X, diabetes_y = datasets.load_diabetes(return_X_y=True)\n",
        "\n",
        "# Use only one feature\n",
        "diabetes_X = diabetes_X[:, np.newaxis, 2]\n",
        "\n",
        "# Split the data into training/testing sets\n",
        "diabetes_X_train = diabetes_X[:-20]\n",
        "diabetes_X_test = diabetes_X[-20:]\n",
        "\n",
        "# Split the targets into training/testing sets\n",
        "diabetes_y_train = diabetes_y[:-20]\n",
        "diabetes_y_test = diabetes_y[-20:]"
      ]
    },
    {
      "cell_type": "markdown",
      "metadata": {
        "id": "FlloirpqKySV"
      },
      "source": [
        "---\n",
        "## Question 1: \n",
        "\n",
        "#### Regression\n",
        "Use the diabetes dataset from sklearn, which I have spilted into training and test sets (diabetes_X_train, diabetes_y_train,diabetes_X_test,diabetes_y_test), please train the linear regression model to get the test accuracy and return `mean squared error`.  "
      ]
    },
    {
      "cell_type": "code",
      "execution_count": 14,
      "metadata": {
        "deletable": false,
        "nbgrader": {
          "cell_type": "code",
          "checksum": "737357d287ff1639f3a56d7e1bfbcd6e",
          "grade": false,
          "grade_id": "my_reg_model_mse_ans",
          "locked": false,
          "schema_version": 3,
          "solution": true,
          "task": false
        },
        "id": "FOti7HskKySW"
      },
      "outputs": [],
      "source": [
        "def my_reg_model_mse(diabetes_X_train, diabetes_y_train,diabetes_X_test,diabetes_y_test):\n",
        "    \"\"\"Write a function to train a machine learning model to get the `mean_squared_error` on diabetes_X_test. \n",
        "    Please use LinearRegression model to train a regressor. \"\"\"\n",
        "    # YOUR CODE HERE\n",
        "    # Create an instance of the LinearRegression model\n",
        "    regressor = linear_model.LinearRegression()\n",
        "\n",
        "    # Fit the model to the training data\n",
        "    regressor.fit(diabetes_X_train, diabetes_y_train)\n",
        "\n",
        "    # Make predictions on the test data\n",
        "    diabetes_y_pred = regressor.predict(diabetes_X_test)\n",
        "\n",
        "    # Compute the mean squared error\n",
        "    mse = mean_squared_error(diabetes_y_test, diabetes_y_pred)\n",
        "    \n",
        "    return mse\n",
        "    raise NotImplementedError()"
      ]
    },
    {
      "cell_type": "code",
      "execution_count": 15,
      "metadata": {
        "deletable": false,
        "editable": false,
        "nbgrader": {
          "cell_type": "code",
          "checksum": "3d93addc4a2ceb6b59c077612b1069f8",
          "grade": true,
          "grade_id": "my_reg_model_mse_test",
          "locked": true,
          "points": 5,
          "schema_version": 3,
          "solution": false,
          "task": false
        },
        "id": "4IJWFOClKySW"
      },
      "outputs": [],
      "source": [
        "# Check you solution by running this cell\n",
        "import math\n",
        "assert math.isclose(my_reg_model_mse(diabetes_X_train, diabetes_y_train,diabetes_X_test,diabetes_y_test), \n",
        "                    2548.07, rel_tol = 0.05)"
      ]
    },
    {
      "cell_type": "markdown",
      "metadata": {
        "id": "lEB1crCpKySW"
      },
      "source": [
        "---\n",
        "## Question 2: \n",
        "\n",
        "#### Regression\n",
        "Use the diabetes dataset from sklearn, which I have spilted into training and test sets (diabetes_X_train, diabetes_y_train,diabetes_X_test,diabetes_y_test), please train the linear regression model to get the test accuracy and return `r2` (r sqaured value).  "
      ]
    },
    {
      "cell_type": "code",
      "execution_count": 24,
      "metadata": {
        "deletable": false,
        "nbgrader": {
          "cell_type": "code",
          "checksum": "b72d896b193dc8f21adedfc9f46e0249",
          "grade": false,
          "grade_id": "my_reg_model_r2_ans",
          "locked": false,
          "schema_version": 3,
          "solution": true,
          "task": false
        },
        "id": "n3aYvvA2KySX"
      },
      "outputs": [],
      "source": [
        "def my_reg_model_r2(diabetes_X_train, diabetes_y_train,diabetes_X_test,diabetes_y_test):\n",
        "    \"\"\"Write a function to train a machine learning model to get the `r2_score` on diabetes_X_test data . \n",
        "    Please use LinearRegression model to train a regressor. \"\"\"\n",
        "    # YOUR CODE HERE\n",
        "    regressor = linear_model.LinearRegression()\n",
        "    # Fit the model to the training data\n",
        "\n",
        "    regressor.fit(diabetes_X_train, diabetes_y_train)\n",
        "    # Make predictions on the test data\n",
        "\n",
        "    diabetes_y_pred = regressor.predict(diabetes_X_test)\n",
        "    # Compute the r2 score\n",
        "\n",
        "    r2 = r2_score(diabetes_y_test, diabetes_y_pred)\n",
        "    return r2\n",
        "    raise NotImplementedError()\n"
      ]
    },
    {
      "cell_type": "code",
      "execution_count": 25,
      "metadata": {
        "deletable": false,
        "editable": false,
        "nbgrader": {
          "cell_type": "code",
          "checksum": "b6b783cd697c3b6fd212fb7c6e337e4c",
          "grade": true,
          "grade_id": "my_reg_model_r2_test",
          "locked": true,
          "points": 4,
          "schema_version": 3,
          "solution": false,
          "task": false
        },
        "id": "oOJlMcpZKySX"
      },
      "outputs": [],
      "source": [
        "# Check you solution by running this cell\n",
        "import math\n",
        "assert math.isclose(my_reg_model_r2(diabetes_X_train, diabetes_y_train,diabetes_X_test,\n",
        "                                    diabetes_y_test), 0.472575, rel_tol = 0.05)"
      ]
    }
  ],
  "metadata": {
    "kernelspec": {
      "display_name": "Python 3",
      "language": "python",
      "name": "python3"
    },
    "language_info": {
      "codemirror_mode": {
        "name": "ipython",
        "version": 3
      },
      "file_extension": ".py",
      "mimetype": "text/x-python",
      "name": "python",
      "nbconvert_exporter": "python",
      "pygments_lexer": "ipython3",
      "version": "3.7.10"
    },
    "colab": {
      "provenance": []
    }
  },
  "nbformat": 4,
  "nbformat_minor": 0
}